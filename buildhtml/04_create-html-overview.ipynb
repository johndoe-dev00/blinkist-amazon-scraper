{
 "cells": [
  {
   "cell_type": "markdown",
   "metadata": {
    "heading_collapsed": "true",
    "tags": []
   },
   "source": [
    "# Initialize"
   ]
  },
  {
   "cell_type": "markdown",
   "metadata": {
    "tags": []
   },
   "source": [
    "## Imports"
   ]
  },
  {
   "cell_type": "code",
   "execution_count": null,
   "metadata": {},
   "outputs": [],
   "source": [
    "import json\n",
    "import flask \n",
    "import locale"
   ]
  },
  {
   "cell_type": "markdown",
   "metadata": {
    "tags": []
   },
   "source": [
    "# Variables & Startup"
   ]
  },
  {
   "cell_type": "code",
   "execution_count": null,
   "metadata": {},
   "outputs": [],
   "source": [
    "locale.setlocale(locale.LC_ALL, 'de_DE.UTF-8')"
   ]
  },
  {
   "cell_type": "code",
   "execution_count": null,
   "metadata": {},
   "outputs": [],
   "source": [
    "with open (\"./../data/books.json\", 'rb') as fp:\n",
    "    books = json.load(fp)"
   ]
  },
  {
   "cell_type": "code",
   "execution_count": null,
   "metadata": {},
   "outputs": [],
   "source": [
    "app = flask.Flask('my app')"
   ]
  },
  {
   "cell_type": "markdown",
   "metadata": {
    "tags": []
   },
   "source": [
    "### sample of single book data"
   ]
  },
  {
   "cell_type": "code",
   "execution_count": null,
   "metadata": {},
   "outputs": [],
   "source": [
    "print(len(books))\n",
    "print(books[0]['amazon_avg'])\n",
    "print(books[0]['amazon_num'])"
   ]
  },
  {
   "cell_type": "markdown",
   "metadata": {},
   "source": [
    "# Functions"
   ]
  },
  {
   "cell_type": "code",
   "execution_count": null,
   "metadata": {},
   "outputs": [],
   "source": [
    "def get_all_categories(books):\n",
    "    categories = []\n",
    "    categories.append('All')\n",
    "    for book in books:\n",
    "        category = book['category']\n",
    "        if category not in categories:\n",
    "            categories.append(category)\n",
    "    \n",
    "    categories.sort()\n",
    "    return categories    "
   ]
  },
  {
   "cell_type": "code",
   "execution_count": null,
   "metadata": {},
   "outputs": [],
   "source": [
    "def get_total_books(categories):\n",
    "    total = 0\n",
    "    for category in categories:\n",
    "        total = total + categories[category]\n",
    "\n",
    "    return total"
   ]
  },
  {
   "cell_type": "code",
   "execution_count": null,
   "metadata": {},
   "outputs": [],
   "source": [
    "def create_category_data_structure(categories, books):\n",
    "    category_ds = []\n",
    "    for category in categories:\n",
    "        books_all = 0\n",
    "        books_en  = 0\n",
    "        books_de  = 0\n",
    "        \n",
    "        for book in books:\n",
    "            if (book['category'] == category) or (category == 'All'):\n",
    "                if book['language'] == 'en':\n",
    "                    books_all += 1\n",
    "                    books_en  += 1\n",
    "                if book['language'] == 'de':\n",
    "                    books_all += 1\n",
    "                    books_de  += 1\n",
    "        \n",
    "        url_slug = category.lower().replace(\"&\",\"-\").replace(\" \",\"\")\n",
    "        \n",
    "        category_ds.append({'name': category, \n",
    "                            'books_all': books_all, 'books_en': books_en, 'books_de': books_de, \n",
    "                            'url_all': url_slug + \"-all\", 'url_en': url_slug + \"-en\", 'url_de': url_slug + \"-de\",})\n",
    "    \n",
    "    return category_ds"
   ]
  },
  {
   "cell_type": "markdown",
   "metadata": {},
   "source": [
    "# Main"
   ]
  },
  {
   "cell_type": "code",
   "execution_count": null,
   "metadata": {},
   "outputs": [],
   "source": [
    "categories = get_all_categories(books)\n",
    "categories[0:2]"
   ]
  },
  {
   "cell_type": "code",
   "execution_count": null,
   "metadata": {},
   "outputs": [],
   "source": [
    "category_ds = create_category_data_structure(categories, books)\n",
    "category_ds[0:2]"
   ]
  },
  {
   "cell_type": "markdown",
   "metadata": {},
   "source": [
    "## Create overview (index.html)"
   ]
  },
  {
   "cell_type": "code",
   "execution_count": null,
   "metadata": {},
   "outputs": [],
   "source": [
    "with app.app_context():\n",
    "    rendered = flask.render_template('categories.html', categories=category_ds)\n",
    "\n",
    "with open(\"./../html-output/!index.html\", 'w', encoding=\"utf-8\") as file:\n",
    "    file.write(rendered)\n",
    "    file.close"
   ]
  },
  {
   "cell_type": "markdown",
   "metadata": {},
   "source": [
    "## Create category htmls"
   ]
  },
  {
   "cell_type": "code",
   "execution_count": null,
   "metadata": {},
   "outputs": [],
   "source": [
    "languages = ['all', 'en', 'de']"
   ]
  },
  {
   "cell_type": "code",
   "execution_count": null,
   "metadata": {},
   "outputs": [],
   "source": [
    "for category in category_ds:\n",
    "    for language in languages:\n",
    "        books_in_category = [ x for x in books if ((x['category'] == category['name']) and ((x['language'] == language) or (language == 'all'))) ]\n",
    "        books_in_category.sort(key=lambda k: k['amazon_num'], reverse=True)\n",
    "    \n",
    "    \n",
    "    \n",
    "        with app.app_context():\n",
    "            rendered = flask.render_template('books.html', title=category['name'], books=books_in_category)\n",
    "\n",
    "        with open(\"./../html-output/\" + category[('url_'+ language)] + \".html\", 'w', encoding=\"utf-8\") as file:\n",
    "            file.write(rendered)\n",
    "            file.close"
   ]
  },
  {
   "cell_type": "code",
   "execution_count": null,
   "metadata": {},
   "outputs": [],
   "source": []
  },
  {
   "cell_type": "code",
   "execution_count": null,
   "metadata": {},
   "outputs": [],
   "source": []
  },
  {
   "cell_type": "code",
   "execution_count": null,
   "metadata": {},
   "outputs": [],
   "source": []
  },
  {
   "cell_type": "code",
   "execution_count": null,
   "metadata": {},
   "outputs": [],
   "source": []
  }
 ],
 "metadata": {
  "kernelspec": {
   "display_name": "Python 3",
   "language": "python",
   "name": "python3"
  },
  "language_info": {
   "codemirror_mode": {
    "name": "ipython",
    "version": 3
   },
   "file_extension": ".py",
   "mimetype": "text/x-python",
   "name": "python",
   "nbconvert_exporter": "python",
   "pygments_lexer": "ipython3",
   "version": "3.9.2"
  }
 },
 "nbformat": 4,
 "nbformat_minor": 4
}
