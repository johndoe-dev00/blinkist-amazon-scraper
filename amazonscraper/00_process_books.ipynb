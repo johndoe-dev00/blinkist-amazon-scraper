{
 "cells": [
  {
   "cell_type": "markdown",
   "metadata": {},
   "source": [
    "# Imports"
   ]
  },
  {
   "cell_type": "code",
   "execution_count": null,
   "metadata": {},
   "outputs": [],
   "source": [
    "import os, json, time"
   ]
  },
  {
   "cell_type": "markdown",
   "metadata": {},
   "source": [
    "# 00. Clear all folders"
   ]
  },
  {
   "cell_type": "code",
   "execution_count": null,
   "metadata": {},
   "outputs": [],
   "source": [
    "# set to True, if you you want ALL files in ./data/ to be deleted!\n",
    "clear_all = True"
   ]
  },
  {
   "cell_type": "code",
   "execution_count": null,
   "metadata": {},
   "outputs": [],
   "source": [
    "input_folder = \"./../dump\"\n",
    "folders     = [\"./../data/00_dump\",\n",
    "               \"./../data/01_fixed-category\",\n",
    "               \"./../data/02_applied-manual-fixes\", \n",
    "               \"./../data/03_with-amazon-id\", \n",
    "               \"./../data/04_scraped-with-review\"]"
   ]
  },
  {
   "cell_type": "code",
   "execution_count": null,
   "metadata": {},
   "outputs": [],
   "source": [
    "for folder in folders:\n",
    "    if not os.path.exists(folder):\n",
    "        os.mkdir(folder)"
   ]
  },
  {
   "cell_type": "code",
   "execution_count": null,
   "metadata": {},
   "outputs": [],
   "source": [
    "if clear_all:\n",
    "    for folder in folders:\n",
    "        for file in os.listdir(folder):\n",
    "            if file.endswith(\".json\"):\n",
    "                os.remove(os.path.join(folder, file))"
   ]
  },
  {
   "cell_type": "markdown",
   "metadata": {},
   "source": [
    "# 00. Load Dump Folder"
   ]
  },
  {
   "cell_type": "code",
   "execution_count": null,
   "metadata": {},
   "outputs": [],
   "source": [
    "# set to True, if you want to load all files from ./dump/\n",
    "load_dump=True"
   ]
  },
  {
   "cell_type": "code",
   "execution_count": null,
   "metadata": {},
   "outputs": [],
   "source": [
    "input_folder = input_folder\n",
    "output_folder = folders[0]"
   ]
  },
  {
   "cell_type": "code",
   "execution_count": null,
   "metadata": {},
   "outputs": [],
   "source": [
    "from shutil import copyfile"
   ]
  },
  {
   "cell_type": "code",
   "execution_count": null,
   "metadata": {},
   "outputs": [],
   "source": [
    "if load_dump:\n",
    "    for filename in os.listdir(input_folder):\n",
    "        if filename.endswith(\".json\"):\n",
    "            copyfile(input_folder + '/' + filename, output_folder + '/' + filename)"
   ]
  },
  {
   "cell_type": "markdown",
   "metadata": {},
   "source": [
    "# 01. Translate Category Names"
   ]
  },
  {
   "cell_type": "code",
   "execution_count": null,
   "metadata": {},
   "outputs": [],
   "source": [
    "fix_category = True\n",
    "category_language = \"en\""
   ]
  },
  {
   "cell_type": "code",
   "execution_count": null,
   "metadata": {},
   "outputs": [],
   "source": [
    "input_folder = folders[0]\n",
    "output_folder = folders[1]"
   ]
  },
  {
   "cell_type": "code",
   "execution_count": null,
   "metadata": {},
   "outputs": [],
   "source": [
    "categories = [{'id':-1, 'en':'Uncategorized', 'de':'Unkategorisiert'},\n",
    "                  {'id':0,  'en':'Entrepreneurship'},         {'id':1,  'en':'Politics'},                  {'id':2,  'en':'Marketing & Sales'},\n",
    "                  {'id':3,  'en':'Science'},                  {'id':4,  'en':'Health & Nutrition'},        {'id':5,  'en':'Personal Development'},\n",
    "                  {'id':6,  'en':'Economics'},                {'id':7,  'en':'History'},                   {'id':8,  'en':'Communication Skills'},\n",
    "                  {'id':9,  'en':'Corporate Culture'},        {'id':10,  'en':'Management & Leadership'},  {'id':11,  'en':'Motivation & Inspiration'},\n",
    "                  {'id':12,  'en':'Money & Investments'},     {'id':13,  'en':'Psychology'},               {'id':14,  'en':'Productivity'},\n",
    "                  {'id':15,  'en':'Sex & Relationships'},     {'id':16,  'en':'Technology & the Future'},  {'id':17,  'en':'Mindfulness & Happiness'},\n",
    "                  {'id':18,  'en':'Parenting'},               {'id':19,  'en':'Society & Culture'},        {'id':20,  'en':'Nature & Environment'},\n",
    "                  {'id':21,  'en':'Biography & Memoir'},      {'id':22,  'en':'Career & Success'},         {'id':23,  'en':'Education'},\n",
    "                  {'id':24,  'en':'Religion & Spirituality'}, {'id':25,  'en':'Creativity'},               {'id':26,  'en':'Philosophy'},    \n",
    "                 ]"
   ]
  },
  {
   "cell_type": "code",
   "execution_count": null,
   "metadata": {},
   "outputs": [],
   "source": [
    "def translate_category_name(book):\n",
    "    id = book['category_id']\n",
    "    for category in categories:\n",
    "        if category['id'] == id:\n",
    "            book['category'] = category[category_language]\n",
    "            break\n",
    "    \n",
    "    return book"
   ]
  },
  {
   "cell_type": "code",
   "execution_count": null,
   "metadata": {},
   "outputs": [],
   "source": [
    "for filename in os.listdir(input_folder):\n",
    "    if filename.endswith(\".json\"):\n",
    "        book = {}\n",
    "        with open(input_folder + '/' + filename, 'r') as fp:\n",
    "            book = json.load(fp)\n",
    "            \n",
    "        if fix_category:\n",
    "            book = translate_category_name(book)\n",
    "  \n",
    "        with open(output_folder + '/' + filename, 'w') as fp:\n",
    "            json.dump(book, fp, indent=4)\n",
    "            \n",
    "        os.remove(input_folder + '/' + filename)"
   ]
  },
  {
   "cell_type": "markdown",
   "metadata": {},
   "source": [
    "# 02. Apply Manual Fixes"
   ]
  },
  {
   "cell_type": "code",
   "execution_count": null,
   "metadata": {},
   "outputs": [],
   "source": [
    "apply_fixes = True"
   ]
  },
  {
   "cell_type": "code",
   "execution_count": null,
   "metadata": {},
   "outputs": [],
   "source": [
    "input_folder = folders[1]\n",
    "output_folder = folders[2]\n",
    "fixes_folder = \"./../data/99_manual-fixes\""
   ]
  },
  {
   "cell_type": "code",
   "execution_count": null,
   "metadata": {},
   "outputs": [],
   "source": [
    "index = 0\n",
    "for filename in os.listdir(input_folder):\n",
    "    if filename.endswith(\".json\"):\n",
    "        book = {}\n",
    "        with open(input_folder + '/' + filename, 'r') as fp:\n",
    "            book = json.load(fp)\n",
    "            \n",
    "        if apply_fixes:\n",
    "            if os.path.isfile(fixes_folder + '/' + filename):\n",
    "                with open(fixes_folder + '/' + filename, 'r') as fp:\n",
    "                    fixes = json.load(fp)\n",
    "                    for fix in fixes:\n",
    "                        book[fix] = fixes[fix]\n",
    "                index = index + 1\n",
    "  \n",
    "        with open(output_folder + '/' + filename, 'w') as fp:\n",
    "            json.dump(book, fp, indent=4)\n",
    "            \n",
    "        #os.remove(input_folder + '/' + filename)"
   ]
  },
  {
   "cell_type": "code",
   "execution_count": null,
   "metadata": {},
   "outputs": [],
   "source": [
    "print(str(index) + \" books fixed\")"
   ]
  },
  {
   "cell_type": "markdown",
   "metadata": {},
   "source": [
    "# 03. Process Books with Amazon ID"
   ]
  },
  {
   "cell_type": "code",
   "execution_count": null,
   "metadata": {},
   "outputs": [],
   "source": [
    "input_folder = folders[2]\n",
    "output_folder = folders[3]"
   ]
  },
  {
   "cell_type": "code",
   "execution_count": null,
   "metadata": {},
   "outputs": [],
   "source": [
    "book = {}\n",
    "for filename in os.listdir(input_folder):\n",
    "    if filename.endswith(\".json\"):\n",
    "        with open(input_folder + '/' + filename, 'r') as fp:\n",
    "            book = json.load(fp)\n",
    "            \n",
    "        if 'amazon_id' in book:\n",
    "            if book['amazon_id'] != \"\":\n",
    "                os.rename(input_folder + '/' + filename, output_folder + '/' + filename)"
   ]
  },
  {
   "cell_type": "code",
   "execution_count": null,
   "metadata": {},
   "outputs": [],
   "source": [
    "num_without_id = len(os.listdir(input_folder))\n",
    "if num_without_id > 0:\n",
    "    print(\"Warning! \" + str(num_without_id) + \" books found without Amazon ID\")"
   ]
  },
  {
   "cell_type": "markdown",
   "metadata": {},
   "source": [
    "# 04. Scrape Amazon"
   ]
  },
  {
   "cell_type": "code",
   "execution_count": null,
   "metadata": {},
   "outputs": [],
   "source": [
    "import chromedriver_autoinstaller\n",
    "from selenium import webdriver"
   ]
  },
  {
   "cell_type": "code",
   "execution_count": null,
   "metadata": {},
   "outputs": [],
   "source": [
    "input_folder = folders[3]\n",
    "output_folder = folders[4]"
   ]
  },
  {
   "cell_type": "code",
   "execution_count": null,
   "metadata": {},
   "outputs": [],
   "source": [
    "chromedriver_autoinstaller.install()\n",
    "chrome_options = webdriver.chrome.options.Options()\n",
    "chrome_options.add_experimental_option(\"excludeSwitches\", [\"enable-automation\"])"
   ]
  },
  {
   "cell_type": "code",
   "execution_count": null,
   "metadata": {},
   "outputs": [],
   "source": [
    "amazon_url_prefix = {'en':'https://www.amazon.com', 'de':'https://www.amazon.de'}"
   ]
  },
  {
   "cell_type": "code",
   "execution_count": null,
   "metadata": {},
   "outputs": [],
   "source": [
    "def get_amazon_review_avg_and_num(driver):\n",
    "    try:\n",
    "        driver = driver.find_element_by_id(\"averageCustomerReviews_feature_div\")\n",
    "    except:\n",
    "        print(\"Strange! This page has no 'averageCustomerReviews_feature_div'\")\n",
    "        return\n",
    "    \n",
    "    try:\n",
    "        driver_avg = driver.find_element_by_id(\"acrPopover\")\n",
    "        avg_string = driver_avg.get_attribute('title').split(\" \")[0].replace(\",\",\".\")\n",
    "        avg = float(avg_string)\n",
    "        driver_num = driver.find_element_by_id(\"acrCustomerReviewText\")\n",
    "        num_string = driver_num.text.split(\" \")[0].replace(\".\",\"\").replace(\",\",\"\")\n",
    "        num = int(num_string)\n",
    "    except:\n",
    "        avg, num = 0, 0\n",
    "    \n",
    "    return {'avg':avg, 'num': num}"
   ]
  },
  {
   "cell_type": "code",
   "execution_count": null,
   "metadata": {},
   "outputs": [],
   "source": [
    "driver = webdriver.Chrome(options=chrome_options)"
   ]
  },
  {
   "cell_type": "code",
   "execution_count": null,
   "metadata": {},
   "outputs": [],
   "source": [
    "filelist = os.listdir(input_folder)\n",
    "for index, filename in enumerate(filelist):\n",
    "    if filename.endswith(\".json\"):\n",
    "        \n",
    "        book = {}\n",
    "        with open(input_folder + '/' + filename, 'r') as fp:\n",
    "            book = json.load(fp)\n",
    "           \n",
    "        if 'amazon_id' not in book:\n",
    "            continue\n",
    "            \n",
    "        amazon_url = amazon_url_prefix[book['language']] + \"/dp/\" + book['amazon_id']\n",
    "        driver.get(amazon_url)\n",
    "\n",
    "        #try:\n",
    "        #    driver.find_element_by_xpath('//a[@href=\"/ref=cs_404_logo\"]')\n",
    "        #except:\n",
    "        #    pass\n",
    "        #finally:\n",
    "        #    driver.get(amazon_url_prefix[book['language']])\n",
    "        #    driver.find_element_by_id(\"twotabsearchtextbox\").send_keys(book['title'] + \" - \" + book['subtitle'])\n",
    "        #    driver.find_element_by_id(\"nav-search-submit-button\").click()\n",
    "        #    time.sleep(1)\n",
    "        #    driver.find_element_by_xpath(\"//*[@data-component-type='s-search-result']\").click()\n",
    "        #    print(book['author'] + \" - \" + book['title'] + \" - \" + book['subtitle'])\n",
    "        #    input()\n",
    "        #    amazon_url = driver.current_url\n",
    "        \n",
    "        time.sleep(3)\n",
    "        \n",
    "        amazon_review = get_amazon_review_avg_and_num(driver)\n",
    "        if amazon_review is None:\n",
    "            print(str(index) + \"/\" + str(len(filelist)) + \" : \" + book['slug'] + \"                 <- Book or reviews not found on Amazon\")\n",
    "        else:\n",
    "            book['amazon_avg'] = amazon_review['avg']\n",
    "            book['amazon_num'] = amazon_review['num']\n",
    "            book['amazon_url'] = amazon_url\n",
    "            with open(output_folder + '/' + filename, 'w') as fp:\n",
    "                json.dump(book, fp, indent=4)\n",
    "            os.remove(input_folder + '/' + filename)\n",
    "\n",
    "            print(str(index) + \"/\" + str(len(filelist)) + \" : \" + book['slug'] + \"  \" + str(book['amazon_avg']) + \" / \" + str(book['amazon_num']) )"
   ]
  },
  {
   "cell_type": "code",
   "execution_count": null,
   "metadata": {},
   "outputs": [],
   "source": [
    "print(\"Warning! \" + str(len(os.listdir(input_folder))) + \" books not found / without reviews\")"
   ]
  },
  {
   "cell_type": "markdown",
   "metadata": {},
   "source": [
    "# 05. Convert *.json to single books.json"
   ]
  },
  {
   "cell_type": "code",
   "execution_count": null,
   "metadata": {},
   "outputs": [],
   "source": [
    "input_folder = folders[4]\n",
    "output_file = \"./../data/books.json\""
   ]
  },
  {
   "cell_type": "code",
   "execution_count": null,
   "metadata": {},
   "outputs": [],
   "source": [
    "books = []\n",
    "\n",
    "for filename in os.listdir(input_folder):\n",
    "    if filename.endswith(\".json\"):\n",
    "        with open(input_folder + '/' + filename) as json_file:\n",
    "            book = json.load(json_file)\n",
    "        books.append(book)\n",
    "           \n",
    "with open(output_file, 'w') as fp:\n",
    "        json.dump(books, fp, indent=4)"
   ]
  },
  {
   "cell_type": "code",
   "execution_count": null,
   "metadata": {},
   "outputs": [],
   "source": []
  }
 ],
 "metadata": {
  "kernelspec": {
   "display_name": "Python 3",
   "language": "python",
   "name": "python3"
  },
  "language_info": {
   "codemirror_mode": {
    "name": "ipython",
    "version": 3
   },
   "file_extension": ".py",
   "mimetype": "text/x-python",
   "name": "python",
   "nbconvert_exporter": "python",
   "pygments_lexer": "ipython3",
   "version": "3.9.2"
  }
 },
 "nbformat": 4,
 "nbformat_minor": 4
}
